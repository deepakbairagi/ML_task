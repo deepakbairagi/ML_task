import matplotlib.pyplot as plt
import pandas as pd
# reading the csv file
df=pd.read_csv('Untitled spreadsheet - Sheet1.csv')
# extracting data from coloumns 
student_data=df["student_name"]
study_data=df["study_hrs"]
marks_data=df["marks"]
# plotting the graph
plt.pie(study_data,labels=student_data,autopct='%1.1f%%',shadow=True)
plt.title("The data about students and there study hours")
plt.show()
plt.pie(marks_data,labels=student_data,autopct='%1.1f%%',shadow=True)
plt.title("The data about students and there marks")
plt.show()